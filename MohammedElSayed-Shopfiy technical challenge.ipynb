{
 "cells": [
  {
   "cell_type": "markdown",
   "metadata": {
    "_uuid": "7dba17e36f2b3704c18f5ad4bf6b40cf92eb0654"
   },
   "source": [
    "# Mohammed El-Sayed\n",
    "\n",
    "# Fall 2022 Data Science Intern Challenge\n",
    "\n",
    "## Question 1\n",
    ">On Shopify, we have exactly 100 sneaker shops, and each of these shops sells only one model of shoe. We want to do some analysis of the average order value (AOV). When we look at orders data over a 30 day window, we naively calculate an AOV of $3145.13. Given that we know these shops are selling sneakers, a relatively affordable item, something seems wrong with our analysis. \n",
    "\n",
    "**a. Think about what could be going wrong with our calculation. Think about a better way to evaluate this data.**"
   ]
  },
  {
   "cell_type": "code",
   "execution_count": null,
   "metadata": {
    "_cell_guid": "b1076dfc-b9ad-4769-8c92-a6c4dae69d19",
    "_uuid": "8f2839f25d086af736a60e9eeb907d3b93b6e0e5"
   },
   "outputs": [],
   "source": [
    "import numpy as np # linear algebra\n",
    "import pandas as pd # data processing, CSV file I/O (e.g. pd.read_csv)\n",
    "import os\n",
    "\n",
    "df = pd.read_csv(\"../home/Shopify 2019 Winter Data Science Intern Challenge Data Set - Sheet1.csv\")"
   ]
  },
  {
   "cell_type": "code",
   "execution_count": null,
   "metadata": {
    "_uuid": "e19d3915a3ee2532f9d587d15c61fea1d1c61938"
   },
   "outputs": [],
   "source": [
    "df.order_amount.describe()"
   ]
  },
  {
   "cell_type": "markdown",
   "metadata": {
    "_uuid": "9360fec011211a913e23e61a561c66aaf2a9e441"
   },
   "source": [
    "I'm interested in where that AOV of 3145.13 came from. I'm guessing it is probably from the mean as high values of order amounts will drag this number up. Using panda's handy `describe()` method on the data frame, we can see that the mean order amount is indeed 3,145.13. Also, there is an incredibly large standard deviation of 41282.54. This means that on average, the values vary 41,282.54 from the mean, making the mean not a very useful representation of the AOV!\n",
    "\n",
    "The `describe()` function we used also gave us some valuable information to better understand this data aside from the mean and standard deviation.  We can see the minimum value is 90 and max value is 704,000. We can also see the values for the median and first and third quartile. Comparing these numbers, we can see that the maximum value is much higher than the other values. Considering our dataset has 5000 records, there are probably a few outlier values that are incredibly high dragging up the mean.\n",
    "\n",
    "To get a sense of the distribution, we can look at a box plot of the data."
   ]
  },
  {
   "cell_type": "code",
   "execution_count": null,
   "metadata": {
    "_uuid": "ee45d7f21e47726986dd57e7f296029ddd46c42d"
   },
   "outputs": [],
   "source": [
    "df.boxplot(column='order_amount')"
   ]
  },
  {
   "cell_type": "markdown",
   "metadata": {
    "_uuid": "259af5fc6617f29753547cf0814ee5cc68fa2558"
   },
   "source": [
    "The entire box portion of the box plot is a line along 0! It looks like there are lots of outliers. Let's try finding them by grouping the data by order amount, counting the number of entries for each group, and sort it in descending order."
   ]
  },
  {
   "cell_type": "code",
   "execution_count": null,
   "metadata": {
    "_uuid": "9ac4a896542743f66686d8a0c2c4cf67b3651295"
   },
   "outputs": [],
   "source": [
    "unique_amounts = df.groupby(['order_amount']).size().reset_index(name='count').sort_values(by='order_amount', ascending=False)\n",
    "unique_amounts.head(10)"
   ]
  },
  {
   "cell_type": "markdown",
   "metadata": {
    "_uuid": "f9092d793f256094b4e6286ec808fbb3d513521f"
   },
   "source": [
    "Interesting. It looks like some of these high order amounts are repeated, especially 704000, 51450, and 25725. Let's look at these rows from our original dataset. "
   ]
  },
  {
   "cell_type": "code",
   "execution_count": null,
   "metadata": {
    "_uuid": "9aed15eefba293901fd306eddfd708440965fea3"
   },
   "outputs": [],
   "source": [
    "df.loc[df['order_amount'].isin([704000, 51450, 25725])].sort_values(by='order_amount', ascending=False)"
   ]
  },
  {
   "cell_type": "markdown",
   "metadata": {
    "_uuid": "b8cfa65600e5a7231a233afe049fd4713307bba8"
   },
   "source": [
    "Again this is interesting. It appears the order amounts of 704000 occur at the same time each day between the same store and users. The data for order amounts of 51450 and 25725 similar. It appears as though orders of 51450 are just transactions that bought two items worth 25725 as they all come from the same store id 78.\n",
    "\n",
    "For the 704000 amounts, it seems like the transactions are probably some sort of supplier purchasing many shoes at once since the order amount is consistently 2000.\n",
    "\n",
    "To better evaluate this data, we can clean some of the values. Let's try plotting only values that are the median +/- 1.5 times the interquartile range."
   ]
  },
  {
   "cell_type": "code",
   "execution_count": null,
   "metadata": {
    "_uuid": "6b0decfb9989c905eb75df1b82ccd30fa5cc219a"
   },
   "outputs": [],
   "source": [
    "q1 = df.order_amount.quantile(q=0.25)\n",
    "q2 = df.order_amount.quantile(q=0.5)\n",
    "q3 = df.order_amount.quantile(q=0.75)\n",
    "IQR = q3 - q1\n",
    "\n",
    "df_truncated = df[(df.order_amount < q2 + IQR * 1.5) & (df.order_amount > q2 - IQR * 1.5)]\n",
    "df_truncated.boxplot(column='order_amount')"
   ]
  },
  {
   "cell_type": "markdown",
   "metadata": {
    "_uuid": "8e5de573a3a7242ac4c3caebbdd08aafd53ae01e"
   },
   "source": [
    "Using `df_truncated` should provide a more accurate representation of the typical order data."
   ]
  },
  {
   "cell_type": "markdown",
   "metadata": {
    "_uuid": "5c2bc77a3efa0a15eb4d5489c4d98a6b47f1b731"
   },
   "source": [
    "**b. What metric would you report for this dataset? **\n",
    "\n",
    "Looking at the box plot for `df_truncated`, it looks like the distribution is skewed towards lower values.  With this in mind, I would report the median value of the truncated dataset. The values above the median will increase the increase the mean a disproportionate amount.\n",
    "\n",
    "\n",
    "**c. What is its value?**\n",
    "\n",
    "We can find this value using the `describe()` function to find that it $272. It also shows that the standard deviation is 132.06, a much more reasonable result!"
   ]
  },
  {
   "cell_type": "code",
   "execution_count": null,
   "metadata": {
    "_uuid": "ac823d3a40f1b223cf9c9dc5c1fd1925bf84a048"
   },
   "outputs": [],
   "source": [
    "df_truncated.order_amount.describe()"
   ]
  },
  {
   "cell_type": "markdown",
   "metadata": {
    "_cell_guid": "79c7e3d0-c299-4dcb-8224-4455121ee9b0",
    "_uuid": "d629ff2d2480ee46fbb7e2d37f6b5fab8052498a"
   },
   "source": [
    "## Question 2\n",
    "> For this question you’ll need to use SQL. Follow this link to access the data set required for the challenge. Please use queries to answer the following questions. Paste your queries along with your final numerical answers below.\n",
    "\n",
    "**a. How many orders were shipped by Speedy Express in total?**\n",
    "\n",
    "If we join the `[Orders]` and `[Shippers]` tables on `ShipperID`, we can filter table by orders performed by `Speedy Express` and count the entries. \n",
    "\n",
    "```\n",
    "SELECT COUNT(*) AS NumberOfOrders\n",
    "FROM [Orders]\n",
    "JOIN [Shippers]\n",
    "\tON [Shippers].ShipperID = [Orders].ShipperID\n",
    "WHERE [Shippers].ShipperName = 'Speedy Express'\n",
    "```\n",
    "\n",
    "Using the above query, the output shows the number of orders is **54**."
   ]
  },
  {
   "cell_type": "markdown",
   "metadata": {
    "_uuid": "4a89837e98ec9c45d827c95dd138557da6e00508"
   },
   "source": [
    "**b. What is the last name of the employee with the most orders?**\n",
    "\n",
    "To solve this problem, we need to count the number of orders associated with each employee, see which one has the most orders, and report back their last name.\n",
    "\n",
    "With SQL, we could count the number of orders in `[Orders]` and group by `EmployeeID`. This would give us which employee ID has the most orders, but not that employee's last name. Instead, we can use the `JOIN` expression to merge the `[Orders]` table and the `[Employees]` to match the employees to their employee ID and group by their last name to solve the problem.\n"
   ]
  },
  {
   "cell_type": "markdown",
   "metadata": {
    "_uuid": "45b199a89915c216bd7a42f535f57aabdbc91e2f"
   },
   "source": [
    "```\n",
    "SELECT [Employees].LastName, COUNT(*) AS NumberOfOrders\n",
    "FROM [Orders]\n",
    "JOIN [Employees]\n",
    "ON [Orders].EmployeeID = [Employees].EmployeeID\n",
    "GROUP BY [Employees].LastName\n",
    "ORDER BY NumberOfOrders DESC\n",
    "LIMIT 1\n",
    "```"
   ]
  },
  {
   "cell_type": "markdown",
   "metadata": {
    "_uuid": "f47630cbb474a6d50e57fe6f355fee59caf103a9"
   },
   "source": [
    "Using the query above shows that the employee with the last name **Peacock** had the most orders at **40**."
   ]
  },
  {
   "cell_type": "markdown",
   "metadata": {
    "_uuid": "1dbe3fd9364b6049b1ee1021359b0381d9b6a56e"
   },
   "source": [
    "**c. What product was ordered the most by customers in Germany?**\n",
    "\n",
    "The data we need to solve this problem is scattered across a few different tables. Our final query should show a list of products ordered by customers in Germay and how many orders of that product there were.\n",
    "\n",
    "We can break down the problem into smaller sections and tackle them one at a time. First, let's look at *all orders from Germany*.\n",
    "\n",
    "```\n",
    "SELECT [Orders].OrderID,\n",
    "\t[Customers].Country\n",
    "FROM [Orders]\n",
    "JOIN [Customers]\n",
    "\tON [Customers].CustomerID = [Orders].CustomerID\n",
    "WHERE [Customers].Country = 'Germany'\n",
    "```\n",
    "This gives us a list of all orders to customers in Germany.\n",
    "\n",
    "The next part of the problem is figuring out *which item was ordered the most*. We need to incorporate information such as product ID and quantity from the `[OrderDetails]` table to do this. By joining `[OrderDetails]` through the `OrderID` column, we can find the total quantity for each product by summing the quantity column and grouping by product id. \n",
    "\n",
    "```\n",
    "SELECT [Customers].Country,\n",
    "\t[OrderDetails].ProductID,\n",
    "    SUM([OrderDetails].Quantity) AS \"TotalOrdered\"\n",
    "FROM [Orders]\n",
    "JOIN [Customers]\n",
    "\tON [Customers].CustomerID = [Orders].CustomerID\n",
    "JOIN [OrderDetails]\n",
    "\tON [OrderDetails].OrderID = [Orders].OrderID\n",
    "WHERE [Customers].Country = 'Germany'\n",
    "GROUP BY [OrderDetails].ProductID\n",
    "ORDER BY TotalOrdered DESC -- Show most ordered item at the top.\n",
    "```\n",
    "\n",
    "At this point, we can see the most ordered item has a product ID of 40 at 160 orders. To make sense of this result, we can join the `[Products]` table on the `ProductID` column to get the name of the most ordered product.\n",
    "\n",
    "```\n",
    "SELECT [Products].ProductName,\n",
    "    SUM([OrderDetails].Quantity) AS \"TotalOrdered\"\n",
    "FROM [Orders]\n",
    "JOIN [Customers]\n",
    "\tON [Customers].CustomerID = [Orders].CustomerID\n",
    "JOIN [OrderDetails]\n",
    "\tON [OrderDetails].OrderID = [Orders].OrderID\n",
    "JOIN [Products]\n",
    "\tON [Products].ProductID = [OrderDetails].ProductID\n",
    "WHERE [Customers].Country = 'Germany'\n",
    "GROUP BY [OrderDetails].ProductID\n",
    "ORDER BY TotalOrdered DESC -- Show most ordered item at the top.\n",
    "```\n",
    "\n",
    "This final query shows that **Boston Crab Meat** has the most orders at **160 total orders**.\n"
   ]
  }
 ],
 "metadata": {
  "kernelspec": {
   "display_name": "Python 3",
   "language": "python",
   "name": "python3"
  },
  "language_info": {
   "codemirror_mode": {
    "name": "ipython",
    "version": 3
   },
   "file_extension": ".py",
   "mimetype": "text/x-python",
   "name": "python",
   "nbconvert_exporter": "python",
   "pygments_lexer": "ipython3",
   "version": "3.7.3"
  }
 },
 "nbformat": 4,
 "nbformat_minor": 4
}
